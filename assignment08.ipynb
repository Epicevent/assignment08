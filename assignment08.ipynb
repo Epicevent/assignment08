{
 "cells": [
  {
   "cell_type": "markdown",
   "metadata": {},
   "source": [
    "# Assignment 8\n",
    "## name : rocky kim \n",
    "## student id : 20152424\n",
    "## github link :[https://github.com/Epicevent/assignment08](https://github.com/Epicevent/assignment07 ) "
   ]
  },
  {
   "cell_type": "markdown",
   "metadata": {},
   "source": [
    "# get training data via given code"
   ]
  },
  {
   "cell_type": "code",
   "execution_count": 1,
   "metadata": {},
   "outputs": [
    {
     "name": "stdout",
     "output_type": "stream",
     "text": [
      "(784,)\n",
      "(60000,)\n"
     ]
    }
   ],
   "source": [
    "import matplotlib.pyplot as plt\n",
    "import numpy as np\n",
    "from numpy.linalg import inv\n",
    "file_data_train = \"mnist_train.csv\"\n",
    "file_data_test  = \"mnist_test.csv\"\n",
    "\n",
    "h_data_train    = open(file_data_train, \"r\")\n",
    "h_data_test     = open(file_data_test, \"r\")\n",
    "\n",
    "data_train      = h_data_train.readlines()\n",
    "data_test       = h_data_test.readlines()\n",
    "\n",
    "h_data_train.close()\n",
    "h_data_test.close()\n",
    "\n",
    "size_row    = 28    # height of the image\n",
    "size_col    = 28    # width of the image\n",
    "\n",
    "num_train   = len(data_train)   # number of training images\n",
    "num_test    = len(data_test)    # number of testing images\n",
    "\n",
    "#\n",
    "# normalize the values of the input data to be [0, 1]\n",
    "#\n",
    "def normalize(data):\n",
    "\n",
    "    data_normalized = (data - min(data)) / (max(data) - min(data))\n",
    "\n",
    "    return(data_normalized)\n",
    "\n",
    "#\n",
    "# example of distance function between two vectors x and y\n",
    "#\n",
    "def distance(x, y):\n",
    "\n",
    "    d = (x - y) ** 2\n",
    "    s = np.sum(d)\n",
    "    # r = np.sqrt(s)\n",
    "\n",
    "    return(s)\n",
    "\n",
    "#\n",
    "# make a matrix each column of which represents an images in a vector form \n",
    "#\n",
    "list_image_train    = np.empty((size_row * size_col, num_train), dtype=float)\n",
    "list_label_train    = np.empty(num_train, dtype=int)\n",
    "\n",
    "list_image_test     = np.empty((size_row * size_col, num_test), dtype=float)\n",
    "list_label_test     = np.empty(num_test, dtype=int)\n",
    "\n",
    "count = 0\n",
    "\n",
    "for line in data_train:\n",
    "\n",
    "    line_data   = line.split(',')\n",
    "    label       = line_data[0]\n",
    "    im_vector   = np.asfarray(line_data[1:])\n",
    "    im_vector   = normalize(im_vector)\n",
    "\n",
    "    list_label_train[count]     = label\n",
    "    list_image_train[:, count]  = im_vector    \n",
    "\n",
    "    count += 1\n",
    "print (np.shape(list_image_train[:,0]))\n",
    "print (np.shape(list_label_train))\n",
    "count = 0\n",
    "\n",
    "for line in data_test:\n",
    "\n",
    "    line_data   = line.split(',')\n",
    "    label       = line_data[0]\n",
    "    im_vector   = np.asfarray(line_data[1:])\n",
    "    im_vector   = normalize(im_vector)\n",
    "\n",
    "    list_label_test[count]      = label\n",
    "    list_image_test[:, count]   = im_vector    \n",
    "\n",
    "    count += 1\n",
    "\n"
   ]
  },
  {
   "cell_type": "markdown",
   "metadata": {},
   "source": [
    "# model for binary classfier\n",
    "\n",
    "\n",
    "\n",
    " feature funtion for a image\n",
    "\n",
    "\n",
    " def>  $\\mathbb{M}$ : set of  M images\n",
    " \n",
    " \n",
    " $$ \n",
    " \\mathbb{M} = \\{m_1 , m_2 , \\cdots , m_M \\}\n",
    " $$ \n",
    "\n"
   ]
  },
  {
   "cell_type": "markdown",
   "metadata": {},
   "source": [
    "\n",
    "#  Domain and codomain of feature function \n",
    "\n",
    "\n",
    "let number of feature is 784\n",
    "\n",
    "\n",
    "$$ \n",
    "f :  \\mathbb{M} \\to \\mathbb{R}^{784}   \n",
    "$$\n",
    "\n"
   ]
  },
  {
   "cell_type": "markdown",
   "metadata": {},
   "source": [
    "\n",
    "# definition of feature function for training\n",
    "\n",
    "\n",
    "let $$ x \\in M $$ be a vector that represent an image of the size 28 × 28 \n",
    "\n",
    "\n",
    "$$   \n",
    "x = (x_1 ,x_2 , \\cdots , x_{784})   \n",
    "$$\n",
    "\n",
    "\n",
    "$$ \n",
    "f(x) = (f_1(x), \\cdots , f_{784}(x) ) \n",
    "$$\n",
    "\n",
    "\n",
    "$$ \n",
    "f_i : \\mathbb{R}^{784} \\to \\mathbb{R} \n",
    "$$\n",
    "\n",
    "\n",
    "$$\n",
    "f_i(x) = x_i \n",
    "$$"
   ]
  },
  {
   "cell_type": "code",
   "execution_count": 2,
   "metadata": {},
   "outputs": [],
   "source": [
    "def feature(i, image):\n",
    "    '''\n",
    "       i : feature index 1~ 784\n",
    "       image : np.array shape : ( 784 , )\n",
    "       return i th feature\n",
    "    '''\n",
    "    return image[i - 1]"
   ]
  },
  {
   "cell_type": "markdown",
   "metadata": {},
   "source": [
    "# Model parameter and model for getting partitioning function"
   ]
  },
  {
   "cell_type": "markdown",
   "metadata": {},
   "source": [
    "# definition of colunm vector \n",
    "\n",
    "\n",
    "\n",
    "\n",
    "$$\n",
    "     a_j=\n",
    "  \\left[ {\\begin{array}{ccccc}\n",
    "   f_j(m_1) \\\\\n",
    "   f_jm_2) \\\\\n",
    "   \\vdots \\\\\n",
    "   f_j(m_M) \n",
    "  \\end{array}}  \\right]\n",
    "$$\n",
    "\n"
   ]
  },
  {
   "cell_type": "markdown",
   "metadata": {},
   "source": [
    "\n",
    "# definition of image feature Matrix A\n",
    "\n",
    "\n",
    "$$\n",
    "   A=\n",
    "  \\left[ {\\begin{array}{ccccc}\n",
    "   a_1 & a_2 & \\dots & a_{784} \n",
    "  \\end{array} } \\right]\n",
    "$$\n",
    "  \n",
    " \n"
   ]
  },
  {
   "cell_type": "markdown",
   "metadata": {},
   "source": [
    "# definition of label vector b for least square\n",
    "\n",
    "\n",
    "$$\n",
    " y_i={\\begin{cases}\n",
    "    1, & \\text{if } m_i \\text{ is image of digit '0' }.\\\\\n",
    "   -1, & \\text{otherwise}.\n",
    "\\end{cases}}\n",
    "$$\n",
    "\n",
    "\n",
    "$$\n",
    "b=  \\left[ {\\begin{array}{ccccc}\n",
    "y_1 \\\\\n",
    " y_2 \\\\\n",
    "   \\vdots \\\\\n",
    "   y_N \n",
    "  \\end{array} } \\right]\n",
    "$$"
   ]
  },
  {
   "cell_type": "code",
   "execution_count": 3,
   "metadata": {},
   "outputs": [],
   "source": [
    "def makeA( imagelist ): \n",
    "    '''\n",
    "        imagelist : np.array with shape (784, 60000)\n",
    "        return . transeposed array with shape (60000, 784 = num of feature)\n",
    "    '''\n",
    "    num_feature = np.shape(imagelist)[0]\n",
    "    Arows = np.shape(imagelist)[1]  # since A's shape is ( shape(imagelist.T) )\n",
    "    Acols = num_feature\n",
    "    A = np.empty((Arows , Acols), dtype=float)\n",
    "    for i in range( Arows ):\n",
    "        for j in range(Acols):\n",
    "                A[i,j] = feature(j + 1,imagelist[:,i]) \n",
    "    return A\n",
    "\n",
    "\n",
    "def makeb (labellist):\n",
    "    '''\n",
    "        labellist : np.array with shape (60000,)\n",
    "        return :column vector with shape (1,60000) and value in {1, -1}\n",
    "    '''\n",
    "    numdata = np.shape(labellist)[0]\n",
    "    b = labellist.reshape((numdata, 1))\n",
    "    condlist = [b==0, b!=0]\n",
    "    choicelist = [1, -1]\n",
    "    return np.select(condlist, choicelist)\n"
   ]
  },
  {
   "cell_type": "markdown",
   "metadata": {},
   "source": [
    "# model parameter \n",
    "\n",
    "${\\theta} \\in {\\mathbb{R}^{N}}$ denotes model parameter\n",
    "\n",
    "\n",
    "$N (= 784)$ is number of feature \n",
    "\n",
    "$$\n",
    "\\theta =  \\left[ {\\begin{array}{ccccc}\n",
    "  \\theta_1 \\\\\n",
    "  \\theta_2 \\\\  \n",
    "  \\vdots \\\\\n",
    "  \\theta_N\n",
    "  \\end{array} } \\right] \n",
    "$$\n",
    "\n"
   ]
  },
  {
   "cell_type": "markdown",
   "metadata": {},
   "source": [
    "# the least square problem \n",
    "   \n",
    "   find $\\theta$ that minimize \n",
    "\n",
    "$$ \n",
    "\\| A\\theta - b   \\|^2 = \\sum_{j=1}^{n}{r_j^2} \\quad where, \\quad r_j = y_j -\\tilde{f}(x_j)\n",
    "$$\n"
   ]
  },
  {
   "cell_type": "markdown",
   "metadata": {},
   "source": [
    "# QR decomposition of A\n",
    "More generally, we can factor a complex $m \\times n$ matrix $A$, with $m≥n$, as the product of an $m\\times m$ unitary matrix $Q$ and an $m\\times n$ upper triangular matrix $R$.  As the bottom ($m − n$) rows of an $m\\times n$ upper triangular matrix consist entirely of zeroes, it is often useful to partition $R$, or both $R$ and $Q$:\n",
    "$$\n",
    "  A = QR = Q \\begin{bmatrix} R_1 \\\\ 0 \\end{bmatrix}\n",
    "    = \\begin{bmatrix} Q_1, Q_2 \\end{bmatrix} \\begin{bmatrix} R_1 \\\\ 0 \\end{bmatrix}\n",
    "    = Q_1 R_1,\n",
    "$$\n",
    "\n",
    "\n"
   ]
  },
  {
   "cell_type": "markdown",
   "metadata": {},
   "source": [
    "# the solution $\\theta$ Satisfies below equations\n",
    "\n",
    "\n",
    "$$(A^T A)\n",
    "   \\left[ {\\begin{array}{ccccc}\n",
    "   \\theta_1 \\\\\n",
    "   \\theta_2 \\\\\n",
    "   \\vdots \\\\\n",
    "   \\theta_N\n",
    "  \\end{array} } \\right]=A^Tb  \n",
    "$$\n",
    "\n",
    "\n",
    "$$\n",
    "\\iff \n",
    "(R_1^T R_1) \\left[ {\\begin{array}{ccccc}\n",
    "   \\theta_1 \\\\\n",
    "   \\theta_2 \\\\\n",
    "   \\vdots \\\\\n",
    "   \\theta_N\n",
    "  \\end{array} } \\right] = A^Tb = R_1^{T}Q_1^Tb\n",
    "$$\n",
    "\n",
    "\n",
    "# let $\\text{R}= R_1$ , compute $\\text{R}^T \\text{R}$\n",
    "\n",
    "\n",
    "let $r_i$ is row vector($\\in \\mathbb{R}^{784}$) of matrix $\\text{R}$ \n",
    "\n",
    "\n",
    "$$\\text{R} = \\left[ {\\begin{array}{ccccc}\n",
    "   r_1 \\\\\n",
    "   r_2 \\\\\n",
    "   \\vdots \\\\\n",
    "   r_N\n",
    "  \\end{array} } \\right]\n",
    "$$\n",
    " \n",
    " \n",
    "$$\\text{R}^T \\text{R} = \n",
    "   r_1^T r_1 + r_2^T r_2 + \\cdots + r_N^T r_N \n",
    "$$\n",
    "\n",
    "\n",
    "$$\n",
    "\\text{R}^T \\text{R} \\theta  = r_1^T r_1 \\theta + r_2^T r_2 \\theta + \\cdots + r_N^T r_N  \\theta\n",
    "$$\n",
    "\n",
    "\n",
    "$$\n",
    "\\text{R}^T  q  = r_1^T  q + r_2^T  q + \\cdots + r_N^T q\n",
    "$$\n",
    "\n",
    "\n",
    "# the least square solution theta statisfy\n",
    "\n",
    "\n",
    "$$\n",
    "\\sum_{i=1}^{N}\\sum_{k\\geq i}{(R_{i,k})r_k\\theta} =\\sum_{i=1}^{N} \\sum_{k\\geq i}{R_{i,k}q_{k}} \n",
    "$$\n",
    "\n",
    "\n",
    "# solve the problem\n",
    "\n",
    "suppose we have \n",
    "\n",
    "$$\\theta_{l+1},\\cdots,\\theta_N$$ \n",
    "\n",
    "that satisfies\n",
    "\n",
    "\n",
    "$$\\forall i \\geq l+1$$\n",
    "\n",
    "\n",
    "$$\n",
    "\\sum_{k\\geq i}{(R_{i,k})r_k\\theta} = \\sum_{k\\geq i}{R_{i,k}q_{k}} \n",
    "$$\n",
    "\n",
    "\n",
    "then We define $\\Theta_l$ as\n",
    "\n",
    "if $\\text{R}_{l,l}\\neq 0$\n",
    "    \n",
    "    \n",
    "$$\n",
    "\\Theta_l = (q_{l} - \\sum_{ l \\lt i \\leq N }R_{l,i}\\theta_N)/R_{l,l}\n",
    "$$\n",
    "\n",
    "\n",
    "else (in this case $\\text{R}_{l,l} = 0$ )\n",
    "\n",
    "\n",
    "$$\n",
    "\\Theta_l = 0 \n",
    "$$\n",
    "\n",
    "\n",
    "then we can pick  \n",
    "$$ \\theta_l = \\Theta_l$$ \n",
    "\n",
    "\n",
    "finally we get\n",
    "\n",
    "\n",
    "$$\\theta_l,\\cdots,\\theta_N$$\n",
    "\n",
    "\n",
    "that satisfies \n",
    "\n",
    "\n",
    "$$\\forall i \\geq l$$\n",
    "\n",
    "\n",
    "$$\n",
    "\\sum_{k\\geq i}{(R_{i,k})r_k\\theta} = \\sum_{k\\geq i}{R_{i,k}q_{k}} \n",
    "$$"
   ]
  },
  {
   "cell_type": "markdown",
   "metadata": {},
   "source": [
    "# Back substitution to solve the problem\n",
    "\n",
    "\n",
    "let \n",
    "\n",
    "\n",
    "$$\\text{R}_{ij} = R_1(i,j)$$   \n",
    "\n",
    "\n",
    "let\n",
    "\n",
    "\n",
    "$$Q_1^Tb = q =\\left[ {\\begin{array}{ccccc}\n",
    "   q_1 \\\\\n",
    "   q_2 \\\\\n",
    "   \\vdots \\\\\n",
    "   q_N\n",
    "  \\end{array} } \\right]$$ \n",
    " \n",
    " \n",
    "write\n",
    "\n",
    "$$\n",
    "( R_1) \\left[ {\\begin{array}{ccccc}\n",
    "   \\theta_1 \\\\\n",
    "   \\theta_2 \\\\\n",
    "   \\vdots \\\\\n",
    "   \\theta_N\n",
    "  \\end{array} } \\right] = \\left[ {\\begin{array}{ccccc}\n",
    "   q_1 \\\\\n",
    "   q_2 \\\\\n",
    "   \\vdots \\\\\n",
    "   q_N\n",
    "  \\end{array} } \\right] \n",
    "$$ as\n",
    "\n",
    "\n",
    "$$\n",
    "\\begin{aligned}\n",
    "   \\text{R}_{11} \\theta_{1} +\\text{R}_{12} \\theta_{2}+ \\cdots + \n",
    "   \\text{R}_{1,N-1}\\theta_{N-1} + \\text{R}_{1N}\\theta_{N}  &= q_1 \\\\\n",
    "   \\vdots \\\\\n",
    "   \\text{R}_{N-1,N-1} \\theta_{N-1} + \\text{R}_{N-1,N}\\theta_{N}&= q_{N-1}\\\\\n",
    "   \\text{R}_{N,N}\\theta_{N}&= q_{N}\n",
    "\\end{aligned}\n",
    "$$"
   ]
  },
  {
   "cell_type": "markdown",
   "metadata": {},
   "source": [
    "\n",
    "\n",
    "# get sudo solution of Back substitution\n",
    "\n",
    "\n",
    "Of course, this equation may not have solution\n",
    "\n",
    "\n",
    "( if some digonal element is zero )\n",
    "\n",
    "\n",
    "but the equation implies the equation of least square plobrem .\n",
    "\n",
    "\n",
    "from last equation we get \n",
    "\n",
    "\n",
    "$$  \n",
    "  \\theta_N=\\begin{cases}\n",
    "    q_{N}/R_{NN} & \\text{if $R_{NN} \\neq 0$ }.\\\\\n",
    "    0 & \\text{if $R_{NN}=0$ }.\n",
    "  \\end{cases}\n",
    "$$\n",
    "\n",
    "\n",
    "I from 2nd to last equation we get\n",
    "\n",
    "\n",
    "$$\n",
    "  \\theta_{N-1}=\\begin{cases}\n",
    "    (q_{N-1} - R_{N-1,N}\\theta_N)/R_{N-1,N-1} & \\text{if $R_{N-1,N-1} \\neq 0$ }.\\\\\n",
    "    0 & \\text{if $R_{N-1,N-1}=0$ }.\n",
    "  \\end{cases}\n",
    "$$\n",
    "\n",
    "\n",
    "\n",
    "I continue to get $\\theta_{N-2},\\theta_{N-3},\\cdots,\\theta_{1}$ \n",
    "\n",
    "\n",
    "# then this $\\theta$ satisfy the least square problem\n",
    "\n",
    "\n",
    "-"
   ]
  },
  {
   "cell_type": "code",
   "execution_count": 40,
   "metadata": {},
   "outputs": [],
   "source": [
    "def solve_model_parameter(A,b):\n",
    "    if  np.shape(b)[0] !=1:\n",
    "        numdata = np.shape(b)[0]\n",
    "        b = b.reshape((numdata, 1))\n",
    "    numfeature = np.shape(A)[1]\n",
    "    Q ,R = np.linalg.qr(A)\n",
    "    q =np.matmul(Q.T, b)\n",
    "    theta_vector = np.zeros((numfeature,1),dtype=float)\n",
    "    for i in range(numfeature):\n",
    "        n = numfeature - i # 1<=n <= numfeature (decreasing)\n",
    "        if R[n-1,n-1] == 0 : # R_(n,n)\n",
    "            theta_vector[n-1,0] = 0 # theta_vector_(n,1)\n",
    "        else:\n",
    "            rthetasum =0 \n",
    "            for j in range (numfeature-n):\n",
    "                l = numfeature- j # 1<= l <=N ( decreasing )\n",
    "                rthetasum += R[n -1 ,l-1]*theta_vector[l-1,0]\n",
    "            theta_vector[n-1,0] = (q[n-1,0] - rthetasum)/R[n-1,n-1]\n",
    "    return theta_vector\n",
    "\n"
   ]
  },
  {
   "cell_type": "markdown",
   "metadata": {},
   "source": [
    "# plot the parameter $\\theta_1,\\theta_2,\\cdots,\\theta_{784}$ in the image form 28X28\n"
   ]
  },
  {
   "cell_type": "code",
   "execution_count": 41,
   "metadata": {},
   "outputs": [],
   "source": [
    "def plot_theta_vector(theta_vector):\n",
    "    data_normalized = (theta_vector - min(theta_vector)) / (max(theta_vector) - min(theta_vector))\n",
    "     # nomalize\n",
    "    im_matrix   = data_normalized.reshape((28, 28))\n",
    "    plt.imshow(im_matrix, cmap='Greys', interpolation='None')\n",
    "    plt.show()"
   ]
  },
  {
   "cell_type": "code",
   "execution_count": 42,
   "metadata": {},
   "outputs": [
    {
     "name": "stdout",
     "output_type": "stream",
     "text": [
      "training ... \n",
      "A and b are made \n"
     ]
    },
    {
     "data": {
      "image/png": "[encoded data removed]",
      "text/plain": [
       "<Figure size 432x288 with 1 Axes>"
      ]
     },
     "metadata": {},
     "output_type": "display_data"
    }
   ],
   "source": [
    "A_train = makeA (list_image_train)\n",
    "b_train = makeb (list_label_train)\n",
    "model_parameter =solve_model_parameter(A_train,b_train)\n",
    "plot_theta_vector(model_parameter) # plot modelparemeter "
   ]
  },
  {
   "cell_type": "markdown",
   "metadata": {},
   "source": [
    "# The partitioning function\n",
    "\n",
    "$$\\tilde{f} : \\mathbb{R}^{ 784}\\to \\mathbb{R}$$ \n",
    "\n",
    "is defined by \n",
    "inner product of feature and model parameter\n",
    "\n",
    "\n",
    "$$\n",
    "   \\tilde{f}(x; \\theta) =  \\langle \\theta,f(x)\\rangle \n",
    "$$\n",
    "\n",
    "\n",
    "$$\n",
    "   \\tilde{f}(x; \\theta) = \\theta_1f_1(x) +\\theta_2f_2(x) + \\cdots +\\theta_{784}f_{784}(x)\n",
    "$$\n",
    "\n",
    "$$\n",
    "    A \\theta = \n",
    "   \\left[ {\\begin{array}{ccccc}\n",
    "  \\tilde{f}(x_1) \\\\\n",
    "   \\tilde{f}(x_2) \\\\  \n",
    "  \\vdots \\\\\n",
    "    \\tilde{f}(x_N)\n",
    "  \\end{array} } \\right]\n",
    "$$"
   ]
  },
  {
   "cell_type": "code",
   "execution_count": 43,
   "metadata": {},
   "outputs": [],
   "source": [
    "A_test = makeA (list_image_test)\n",
    "b_test = makeb (list_label_test)\n",
    "partitioning_vec = np.matmul(A_test,model_parmeter) # test input partition "
   ]
  },
  {
   "cell_type": "markdown",
   "metadata": {},
   "source": [
    "# binary classifier f(x) \n",
    "\n",
    "$$f(x) = sign( \\tilde{f}(x))$$ \n",
    "\n",
    "\n",
    "using the sign function:\n",
    "\n",
    "\n",
    "$$\n",
    "  sign(x)=\\begin{cases}\n",
    "    +1 & \\text{ if  $ (x)>0 $ }.\\\\\n",
    "    -1 & \\text{if  $ (x)<0 $ }.\n",
    "  \\end{cases}\n",
    "$$"
   ]
  },
  {
   "cell_type": "code",
   "execution_count": 66,
   "metadata": {},
   "outputs": [],
   "source": [
    "classifier_vec = np.sign(partitioning_vec) # sign : if x < 0 return 1 else return 1"
   ]
  },
  {
   "cell_type": "markdown",
   "metadata": {},
   "source": [
    "# TP TN FP FN"
   ]
  },
  {
   "cell_type": "code",
   "execution_count": 72,
   "metadata": {},
   "outputs": [
    {
     "name": "stdout",
     "output_type": "stream",
     "text": [
      "Total: 10000 \n",
      "TP: 925 ,TN: 358, FP: 8662 ,FN: 55\n"
     ]
    }
   ],
   "source": [
    "true = (classifier_vec == b_test) # true\n",
    "false = ~true #false \n",
    "def positive(true_or_false,classifier_vec):\n",
    "    return (true_or_false[:,0] & (classifier_vec == 1.0)[:,0])\n",
    "\n",
    "\n",
    "def negative(true_or_false,classifier_vec):\n",
    "    return (true_or_false[:,0] & (classifier_vec == -1.0)[:,0])\n",
    "Total = np.size(TP)\n",
    "TP = positive(true,classifier_vec)\n",
    "TN = negative(true,classifier_vec)\n",
    "FP = positive(false,classifier_vec)\n",
    "FN = negative(false,classifier_vec)\n",
    "print(\"Total: {:d} \\nTP: {:d} ,TN: {:d}, FP: {:d} ,FN: {:d}\".format(Total,\n",
    "    np.sum(TP),np.sum(TN),np.sum(FP),np.sum(FN)))"
   ]
  },
  {
   "cell_type": "markdown",
   "metadata": {},
   "source": [
    "# Plot the average image (28 X 28)"
   ]
  },
  {
   "cell_type": "code",
   "execution_count": 99,
   "metadata": {},
   "outputs": [],
   "source": [
    "\n",
    "def draw_average(condition,title):\n",
    "    f2 = plt.figure()\n",
    "    im_average  = np.zeros((size_row * size_col), dtype=float)\n",
    "    im_count    = 0\n",
    "    for i in range(num_test):\n",
    "        if condition[i] : # TP TN FP FN\n",
    "            im_average += list_image_test[:, i]\n",
    "            im_count += 1 # \n",
    "\n",
    "    im_average /= im_count\n",
    "    plt.title(title)\n",
    "    plt.imshow(im_average.reshape((size_row, size_col)), \n",
    "               cmap='Greys', interpolation='None') \n",
    "    frame   = plt.gca()\n",
    "    frame.axes.get_xaxis().set_visible(False)\n",
    "    frame.axes.get_yaxis().set_visible(False)\n",
    "    plt.show()"
   ]
  },
  {
   "cell_type": "markdown",
   "metadata": {},
   "source": [
    "# plot average TP"
   ]
  },
  {
   "cell_type": "code",
   "execution_count": 100,
   "metadata": {},
   "outputs": [
    {
     "data": {
      "image/png": "[encoded data removed]",
      "text/plain": [
       "<Figure size 432x288 with 1 Axes>"
      ]
     },
     "metadata": {},
     "output_type": "display_data"
    }
   ],
   "source": [
    "draw_average(TP,\"TP AVERAGE\") # true positive"
   ]
  },
  {
   "cell_type": "markdown",
   "metadata": {},
   "source": [
    "# plot average TN"
   ]
  },
  {
   "cell_type": "code",
   "execution_count": 101,
   "metadata": {},
   "outputs": [
    {
     "data": {
      "image/png": "[encoded data removed]",
      "text/plain": [
       "<Figure size 432x288 with 1 Axes>"
      ]
     },
     "metadata": {},
     "output_type": "display_data"
    }
   ],
   "source": [
    "draw_average(TN,\"TN AVERAGE\") # true negative"
   ]
  },
  {
   "cell_type": "markdown",
   "metadata": {},
   "source": [
    "# plot average FP"
   ]
  },
  {
   "cell_type": "code",
   "execution_count": 102,
   "metadata": {},
   "outputs": [
    {
     "data": {
      "image/png": "[encoded data removed]",
      "text/plain": [
       "<Figure size 432x288 with 1 Axes>"
      ]
     },
     "metadata": {},
     "output_type": "display_data"
    }
   ],
   "source": [
    "draw_average(FP,\"FP AVERAGE\") # false positive"
   ]
  },
  {
   "cell_type": "markdown",
   "metadata": {},
   "source": [
    "# plot average FN"
   ]
  },
  {
   "cell_type": "code",
   "execution_count": 103,
   "metadata": {},
   "outputs": [
    {
     "data": {
      "image/png": "[encoded data removed]",
      "text/plain": [
       "<Figure size 432x288 with 1 Axes>"
      ]
     },
     "metadata": {},
     "output_type": "display_data"
    }
   ],
   "source": [
    "draw_average(FN,\"FN AVERAGE\") #false negative"
   ]
  }
 ],
 "metadata": {
  "kernelspec": {
   "display_name": "Python 3",
   "language": "python",
   "name": "python3"
  },
  "language_info": {
   "codemirror_mode": {
    "name": "ipython",
    "version": 3
   },
   "file_extension": ".py",
   "mimetype": "text/x-python",
   "name": "python",
   "nbconvert_exporter": "python",
   "pygments_lexer": "ipython3",
   "version": "3.6.5"
  }
 },
 "nbformat": 4,
 "nbformat_minor": 2
}
